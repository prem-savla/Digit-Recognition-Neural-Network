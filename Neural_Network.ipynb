{
 "cells": [
  {
   "cell_type": "code",
   "execution_count": 2,
   "metadata": {},
   "outputs": [],
   "source": [
    "import pandas as pd\n",
    "import numpy as np\n",
    "from matplotlib import pyplot as plt"
   ]
  },
  {
   "cell_type": "code",
   "execution_count": 3,
   "metadata": {},
   "outputs": [
    {
     "data": {
      "text/plain": [
       "(42000, 785)"
      ]
     },
     "execution_count": 3,
     "metadata": {},
     "output_type": "execute_result"
    }
   ],
   "source": [
    "data = pd.read_csv(\"digit-recognizer\\\\train.csv\")\n",
    "data.shape"
   ]
  },
  {
   "cell_type": "code",
   "execution_count": 5,
   "metadata": {},
   "outputs": [],
   "source": [
    "data = np.array(data)\n",
    "m,n = data.shape\n",
    "np.random.shuffle(data)\n",
    "\n",
    "data_dev = data[0:1000].T\n",
    "Y_dev = data_dev[0]\n",
    "X_dev = data_dev[1:n]\n",
    "X_dev=X_dev/255\n",
    "\n",
    "data_train = data[1000:m].T\n",
    "Y_train = data_train[0]\n",
    "X_train = data_train[1:n]\n",
    "X_train =X_train/ 255"
   ]
  },
  {
   "cell_type": "code",
   "execution_count": 6,
   "metadata": {},
   "outputs": [],
   "source": [
    "def init_params():\n",
    "    W1 = np.random.rand(10,784) -0.5 \n",
    "    b1 = np.random.rand(10,1) -0.5\n",
    "    W2 = np.random.rand(10,10) -0.5\n",
    "    b2 = np.random.rand(10,1) -0.5\n",
    "    return W1,b1,W2,b2\n",
    "\n",
    "def ReLU(Z):\n",
    "    return np.maximum(0,Z)\n",
    "\n",
    "def derive_ReLU(Z):\n",
    "    return Z>0\n",
    "\n",
    "def softmax(Z):\n",
    "    return np.exp(Z)/ sum(np.exp(Z))\n",
    "\n",
    "def forward_prop(W1,b1,W2,b2,X):\n",
    "    Z1 = W1.dot(X)+b1\n",
    "    A1 = ReLU(Z1)\n",
    "    Z2 = W2.dot(A1)+b2\n",
    "    A2 = softmax(Z2) \n",
    "    return Z1,A1,Z2,A2\n",
    "\n",
    "def one_hot(Y):\n",
    "    one_hot_Y = np.zeros((Y.size,Y.max()+1))\n",
    "    one_hot_Y[np.arange(Y.size),Y] = 1\n",
    "    return one_hot_Y.T\n",
    "\n",
    "def back_prop(Z1,A1,Z2,A2,W2,X,Y):\n",
    "    one_hot_Y = one_hot(Y)\n",
    "    dZ2 = A2 - one_hot_Y\n",
    "    dW2 =  1/m*dZ2.dot(A1.T)\n",
    "    db2 = 1/m*np.sum(dZ2)\n",
    "    dZ1 = W2.T.dot(dZ2)*derive_ReLU(Z1)\n",
    "    dW1 = 1/m*dZ1.dot(X.T)\n",
    "    db1 = 1/m*np.sum(dZ1)\n",
    "    return dW1,db1,dW2,db2\n",
    "\n",
    "\n",
    "def update_params(W1,b1,W2,b2,dW1,db1,dW2,db2,alpha):\n",
    "    W1 = W1-alpha*dW1\n",
    "    b1 = b1-alpha*db1\n",
    "    W2 = W2-alpha*dW2\n",
    "    b2 = b2-alpha*db2\n",
    "    return W1,b1,W2,b2\n",
    "\n",
    "\n",
    "def get_prediction(A2):\n",
    "    return np.argmax(A2,0)\n",
    "\n",
    "def get_accuracy(predictions,Y):\n",
    "    print(predictions,Y)\n",
    "    return np.sum(predictions==Y)/Y.size\n"
   ]
  },
  {
   "cell_type": "code",
   "execution_count": 7,
   "metadata": {},
   "outputs": [],
   "source": [
    "def gradient_descent(X,Y,iterations,alpha):\n",
    "    W1,b1,W2,b2 = init_params()\n",
    "    for i in range(iterations):\n",
    "        Z1,A1,Z2,A2 = forward_prop(W1,b1,W2,b2,X)\n",
    "        dW1,db1,dW2,db2 =back_prop(Z1,A1,Z2,A2,W2,X,Y)\n",
    "        W1,b1,W2,b2=update_params(W1,b1,W2,b2,dW1,db1,dW2,db2,alpha)\n",
    "        if i%10==0:\n",
    "            print(\"Iterations: \",i)\n",
    "            print(\"Accuracy: \",get_accuracy(get_prediction(A2),Y))\n",
    "    return W1,b1,W2,b2\n",
    "    "
   ]
  },
  {
   "cell_type": "code",
   "execution_count": 8,
   "metadata": {},
   "outputs": [
    {
     "name": "stdout",
     "output_type": "stream",
     "text": [
      "Iterations:  0\n",
      "[7 4 1 ... 4 9 2] [1 0 7 ... 7 2 5]\n",
      "Accuracy:  0.10402439024390243\n",
      "Iterations:  10\n",
      "[1 4 1 ... 2 9 2] [1 0 7 ... 7 2 5]\n",
      "Accuracy:  0.17609756097560975\n",
      "Iterations:  20\n",
      "[1 0 1 ... 2 9 2] [1 0 7 ... 7 2 5]\n",
      "Accuracy:  0.24785365853658536\n",
      "Iterations:  30\n",
      "[1 0 1 ... 2 9 2] [1 0 7 ... 7 2 5]\n",
      "Accuracy:  0.30509756097560975\n",
      "Iterations:  40\n",
      "[1 0 1 ... 2 2 2] [1 0 7 ... 7 2 5]\n",
      "Accuracy:  0.35785365853658535\n",
      "Iterations:  50\n",
      "[1 0 1 ... 2 2 2] [1 0 7 ... 7 2 5]\n",
      "Accuracy:  0.4102682926829268\n",
      "Iterations:  60\n",
      "[1 0 1 ... 2 2 2] [1 0 7 ... 7 2 5]\n",
      "Accuracy:  0.4578536585365854\n",
      "Iterations:  70\n",
      "[1 0 5 ... 2 2 2] [1 0 7 ... 7 2 5]\n",
      "Accuracy:  0.501780487804878\n",
      "Iterations:  80\n",
      "[1 0 0 ... 2 2 2] [1 0 7 ... 7 2 5]\n",
      "Accuracy:  0.5409268292682927\n",
      "Iterations:  90\n",
      "[1 0 0 ... 7 2 2] [1 0 7 ... 7 2 5]\n",
      "Accuracy:  0.575170731707317\n",
      "Iterations:  100\n",
      "[1 0 9 ... 7 2 2] [1 0 7 ... 7 2 5]\n",
      "Accuracy:  0.6069512195121951\n",
      "Iterations:  110\n",
      "[1 0 9 ... 7 2 2] [1 0 7 ... 7 2 5]\n",
      "Accuracy:  0.6329756097560976\n",
      "Iterations:  120\n",
      "[1 0 9 ... 7 2 0] [1 0 7 ... 7 2 5]\n",
      "Accuracy:  0.6540487804878049\n",
      "Iterations:  130\n",
      "[1 0 9 ... 7 2 0] [1 0 7 ... 7 2 5]\n",
      "Accuracy:  0.6721463414634147\n",
      "Iterations:  140\n",
      "[1 0 9 ... 7 2 0] [1 0 7 ... 7 2 5]\n",
      "Accuracy:  0.6867560975609757\n",
      "Iterations:  150\n",
      "[1 0 9 ... 7 2 0] [1 0 7 ... 7 2 5]\n",
      "Accuracy:  0.7005121951219512\n",
      "Iterations:  160\n",
      "[1 0 9 ... 7 2 0] [1 0 7 ... 7 2 5]\n",
      "Accuracy:  0.7126829268292683\n",
      "Iterations:  170\n",
      "[1 0 9 ... 7 2 0] [1 0 7 ... 7 2 5]\n",
      "Accuracy:  0.7231463414634146\n",
      "Iterations:  180\n",
      "[1 0 9 ... 7 2 0] [1 0 7 ... 7 2 5]\n",
      "Accuracy:  0.7330731707317073\n",
      "Iterations:  190\n",
      "[1 0 9 ... 7 2 0] [1 0 7 ... 7 2 5]\n",
      "Accuracy:  0.7410487804878049\n",
      "Iterations:  200\n",
      "[1 0 9 ... 7 2 0] [1 0 7 ... 7 2 5]\n",
      "Accuracy:  0.7487317073170732\n",
      "Iterations:  210\n",
      "[1 0 9 ... 9 2 0] [1 0 7 ... 7 2 5]\n",
      "Accuracy:  0.7554878048780488\n",
      "Iterations:  220\n",
      "[1 0 9 ... 9 2 0] [1 0 7 ... 7 2 5]\n",
      "Accuracy:  0.7629024390243903\n",
      "Iterations:  230\n",
      "[1 0 9 ... 9 2 0] [1 0 7 ... 7 2 5]\n",
      "Accuracy:  0.769\n",
      "Iterations:  240\n",
      "[1 0 9 ... 9 2 0] [1 0 7 ... 7 2 5]\n",
      "Accuracy:  0.7749024390243903\n",
      "Iterations:  250\n",
      "[1 0 9 ... 9 2 0] [1 0 7 ... 7 2 5]\n",
      "Accuracy:  0.7794634146341464\n",
      "Iterations:  260\n",
      "[1 0 9 ... 9 2 0] [1 0 7 ... 7 2 5]\n",
      "Accuracy:  0.785\n",
      "Iterations:  270\n",
      "[1 0 9 ... 9 2 0] [1 0 7 ... 7 2 5]\n",
      "Accuracy:  0.7900487804878049\n",
      "Iterations:  280\n",
      "[1 0 9 ... 9 2 0] [1 0 7 ... 7 2 5]\n",
      "Accuracy:  0.7946585365853659\n",
      "Iterations:  290\n",
      "[1 0 9 ... 9 2 0] [1 0 7 ... 7 2 5]\n",
      "Accuracy:  0.7980731707317074\n",
      "Iterations:  300\n",
      "[1 0 9 ... 9 2 0] [1 0 7 ... 7 2 5]\n",
      "Accuracy:  0.8018780487804879\n",
      "Iterations:  310\n",
      "[1 0 9 ... 9 2 0] [1 0 7 ... 7 2 5]\n",
      "Accuracy:  0.8051219512195122\n",
      "Iterations:  320\n",
      "[1 0 9 ... 9 2 0] [1 0 7 ... 7 2 5]\n",
      "Accuracy:  0.8088536585365854\n",
      "Iterations:  330\n",
      "[1 0 9 ... 9 2 0] [1 0 7 ... 7 2 5]\n",
      "Accuracy:  0.811829268292683\n",
      "Iterations:  340\n",
      "[1 0 9 ... 9 2 0] [1 0 7 ... 7 2 5]\n",
      "Accuracy:  0.8147317073170731\n",
      "Iterations:  350\n",
      "[1 0 9 ... 9 2 0] [1 0 7 ... 7 2 5]\n",
      "Accuracy:  0.817170731707317\n",
      "Iterations:  360\n",
      "[1 0 9 ... 9 2 0] [1 0 7 ... 7 2 5]\n",
      "Accuracy:  0.8194146341463414\n",
      "Iterations:  370\n",
      "[1 0 9 ... 9 2 0] [1 0 7 ... 7 2 5]\n",
      "Accuracy:  0.8216097560975609\n",
      "Iterations:  380\n",
      "[1 0 9 ... 9 2 0] [1 0 7 ... 7 2 5]\n",
      "Accuracy:  0.823780487804878\n",
      "Iterations:  390\n",
      "[1 0 9 ... 9 2 0] [1 0 7 ... 7 2 5]\n",
      "Accuracy:  0.8263414634146341\n",
      "Iterations:  400\n",
      "[1 0 9 ... 9 2 0] [1 0 7 ... 7 2 5]\n",
      "Accuracy:  0.8289756097560975\n",
      "Iterations:  410\n",
      "[1 0 9 ... 9 2 0] [1 0 7 ... 7 2 5]\n",
      "Accuracy:  0.8310243902439024\n",
      "Iterations:  420\n",
      "[1 0 9 ... 9 2 0] [1 0 7 ... 7 2 5]\n",
      "Accuracy:  0.8327560975609756\n",
      "Iterations:  430\n",
      "[1 0 9 ... 9 2 0] [1 0 7 ... 7 2 5]\n",
      "Accuracy:  0.8344878048780487\n",
      "Iterations:  440\n",
      "[1 0 9 ... 9 2 0] [1 0 7 ... 7 2 5]\n",
      "Accuracy:  0.8363658536585366\n",
      "Iterations:  450\n",
      "[1 0 9 ... 9 2 0] [1 0 7 ... 7 2 5]\n",
      "Accuracy:  0.8384390243902439\n",
      "Iterations:  460\n",
      "[1 0 9 ... 9 2 0] [1 0 7 ... 7 2 5]\n",
      "Accuracy:  0.8402195121951219\n",
      "Iterations:  470\n",
      "[1 0 9 ... 9 2 0] [1 0 7 ... 7 2 5]\n",
      "Accuracy:  0.8419268292682927\n",
      "Iterations:  480\n",
      "[1 0 9 ... 9 2 0] [1 0 7 ... 7 2 5]\n",
      "Accuracy:  0.8437317073170731\n",
      "Iterations:  490\n",
      "[1 0 9 ... 9 2 0] [1 0 7 ... 7 2 5]\n",
      "Accuracy:  0.8451951219512195\n"
     ]
    }
   ],
   "source": [
    "W1,b1,W2,b2 = gradient_descent(X_train,Y_train,500,0.1)"
   ]
  },
  {
   "cell_type": "code",
   "execution_count": 9,
   "metadata": {},
   "outputs": [],
   "source": [
    "def make_predictions(X, W1, b1, W2, b2):\n",
    "    _, _, _, A2 = forward_prop(W1, b1, W2, b2, X)\n",
    "    predictions = get_prediction(A2)\n",
    "    return predictions\n",
    "\n",
    "def test_prediction(index, W1, b1, W2, b2):\n",
    "    current_image = X_train[:, index, None]\n",
    "    prediction = make_predictions(X_train[:, index, None], W1, b1, W2, b2)\n",
    "    label = Y_train[index]\n",
    "    print(\"Prediction: \", prediction)\n",
    "    print(\"Label: \", label)\n",
    "    \n",
    "    current_image = current_image.reshape((28, 28)) * 255\n",
    "    plt.gray()\n",
    "    plt.imshow(current_image, interpolation='nearest')\n",
    "    plt.show()"
   ]
  },
  {
   "cell_type": "code",
   "execution_count": 10,
   "metadata": {},
   "outputs": [
    {
     "name": "stdout",
     "output_type": "stream",
     "text": [
      "Prediction:  [1]\n",
      "Label:  1\n"
     ]
    },
    {
     "data": {
      "image/png": "[encoded data removed]",
      "text/plain": [
       "<Figure size 640x480 with 1 Axes>"
      ]
     },
     "metadata": {},
     "output_type": "display_data"
    },
    {
     "name": "stdout",
     "output_type": "stream",
     "text": [
      "Prediction:  [0]\n",
      "Label:  0\n"
     ]
    },
    {
     "data": {
      "image/png": "[encoded data removed]",
      "text/plain": [
       "<Figure size 640x480 with 1 Axes>"
      ]
     },
     "metadata": {},
     "output_type": "display_data"
    },
    {
     "name": "stdout",
     "output_type": "stream",
     "text": [
      "Prediction:  [9]\n",
      "Label:  7\n"
     ]
    },
    {
     "data": {
      "image/png": "[encoded data removed]",
      "text/plain": [
       "<Figure size 640x480 with 1 Axes>"
      ]
     },
     "metadata": {},
     "output_type": "display_data"
    },
    {
     "name": "stdout",
     "output_type": "stream",
     "text": [
      "Prediction:  [6]\n",
      "Label:  6\n"
     ]
    },
    {
     "data": {
      "image/png": "[encoded data removed]",
      "text/plain": [
       "<Figure size 640x480 with 1 Axes>"
      ]
     },
     "metadata": {},
     "output_type": "display_data"
    }
   ],
   "source": [
    "test_prediction(0, W1, b1, W2, b2)\n",
    "test_prediction(1, W1, b1, W2, b2)\n",
    "test_prediction(2, W1, b1, W2, b2)\n",
    "test_prediction(3, W1, b1, W2, b2)"
   ]
  },
  {
   "cell_type": "code",
   "execution_count": 11,
   "metadata": {},
   "outputs": [
    {
     "name": "stdout",
     "output_type": "stream",
     "text": [
      "[2 5 7 2 6 4 9 2 6 3 8 3 7 4 8 7 2 2 3 0 7 3 9 3 7 7 3 2 5 3 1 5 5 6 5 3 7\n",
      " 2 4 2 6 8 8 4 0 7 4 7 6 9 7 1 4 1 1 3 5 7 3 5 1 3 9 6 7 8 7 8 0 7 1 7 7 4\n",
      " 6 7 2 6 9 6 5 8 6 5 7 6 5 0 9 2 5 6 0 0 3 8 0 0 8 5 1 8 2 2 9 6 8 3 4 3 6\n",
      " 4 3 6 9 7 9 4 7 3 2 2 8 5 7 0 4 7 9 9 8 6 0 3 1 6 4 1 3 7 3 0 7 2 7 1 4 2\n",
      " 7 7 7 7 5 4 3 4 4 9 2 1 6 2 9 0 8 6 1 9 1 6 1 5 8 5 3 9 6 8 1 1 3 4 7 3 0\n",
      " 6 4 9 0 9 1 4 3 0 5 1 8 0 3 8 9 9 6 1 0 2 3 9 4 4 0 2 7 5 4 7 9 6 9 9 9 5\n",
      " 9 3 0 7 1 0 1 1 7 6 9 8 2 5 2 1 8 3 8 6 7 7 6 9 8 1 9 1 7 0 4 4 6 7 3 0 6\n",
      " 1 6 5 7 6 2 9 9 6 6 8 8 9 4 1 0 0 8 4 6 1 6 8 7 9 9 1 2 7 4 9 1 0 7 2 4 9\n",
      " 8 6 5 8 9 4 0 6 9 4 7 1 2 5 2 5 3 3 2 8 2 1 7 1 1 6 2 0 0 3 6 0 1 6 5 2 1\n",
      " 3 5 7 4 8 1 4 5 2 9 2 9 6 0 0 1 7 8 6 3 8 6 1 5 1 5 0 4 5 5 6 5 6 1 5 4 1\n",
      " 0 8 3 0 2 4 5 0 9 5 9 7 2 2 9 1 2 1 9 0 2 0 6 3 7 2 5 9 5 9 6 1 8 7 5 1 4\n",
      " 3 1 1 3 4 1 8 1 8 9 9 1 6 0 9 6 3 0 9 4 2 6 0 4 0 7 0 0 7 6 0 0 5 1 0 8 1\n",
      " 4 7 7 0 0 6 2 5 3 4 8 5 6 6 3 5 6 6 0 8 7 4 7 3 1 0 9 9 1 3 5 9 2 3 0 9 5\n",
      " 2 6 4 9 2 1 0 5 6 8 0 7 4 3 2 3 0 7 4 0 7 2 2 7 4 4 1 3 0 8 8 7 9 6 7 7 5\n",
      " 7 5 8 4 8 2 1 7 5 0 4 7 5 7 3 6 3 7 0 6 2 4 2 8 8 4 0 6 7 0 8 7 8 8 9 9 2\n",
      " 1 3 0 3 8 1 5 7 4 4 8 4 3 8 8 2 0 0 5 6 4 4 8 7 5 3 1 5 1 2 8 2 8 5 0 5 2\n",
      " 0 4 7 3 6 6 8 3 2 0 6 5 7 9 1 0 7 2 6 1 8 7 7 4 8 3 1 8 6 0 2 9 4 0 5 0 7\n",
      " 6 3 9 2 5 8 9 3 3 7 2 0 1 5 7 0 2 1 7 4 4 1 6 1 5 2 3 8 9 5 7 3 0 4 5 2 1\n",
      " 0 8 5 5 4 3 0 5 7 0 5 3 9 6 4 9 6 4 8 4 2 0 5 8 6 0 8 1 3 6 8 5 9 9 8 0 3\n",
      " 8 6 7 7 8 6 3 3 4 0 7 6 2 4 0 4 8 8 3 1 3 2 4 7 6 6 8 5 8 8 6 5 6 8 3 7 2\n",
      " 8 7 3 9 3 5 0 8 0 3 0 5 9 2 9 8 8 3 7 9 3 6 2 1 8 3 4 6 8 4 6 7 5 0 4 1 9\n",
      " 6 1 6 2 1 6 5 7 5 7 2 5 3 6 8 7 8 6 3 6 6 5 0 7 8 9 3 8 0 6 9 8 3 8 1 5 4\n",
      " 7 5 9 4 1 7 4 9 6 6 5 6 2 8 5 3 9 4 7 6 6 6 9 6 7 4 6 0 7 8 1 5 3 9 6 4 0\n",
      " 1 4 1 2 0 7 1 2 5 0 6 8 9 1 7 5 6 2 0 8 2 7 8 1 3 1 6 0 6 7 3 2 9 0 6 1 0\n",
      " 7 8 9 2 3 1 9 9 1 1 2 2 7 4 6 8 0 8 5 6 7 1 9 9 2 0 3 3 5 2 6 1 6 5 8 7 1\n",
      " 1 7 8 7 2 3 3 4 6 6 6 6 9 3 6 6 9 0 1 4 1 6 5 7 8 1 9 2 6 3 5 4 6 0 1 2 6\n",
      " 8 7 6 6 4 2 1 7 9 1 6 6 1 8 7 0 4 1 1 6 0 5 7 4 9 1 7 0 0 5 1 9 8 9 9 7 9\n",
      " 6] [2 5 7 2 6 4 9 2 6 3 8 3 7 4 3 7 2 2 3 0 7 3 9 3 7 7 8 7 5 3 1 5 5 6 5 3 7\n",
      " 2 4 2 6 8 8 4 0 7 4 7 6 9 7 1 4 1 1 3 5 7 5 5 1 8 9 6 7 8 7 8 0 7 1 7 7 4\n",
      " 6 7 2 6 9 6 5 8 6 5 7 2 5 0 9 0 5 6 0 0 3 8 0 0 8 5 1 3 2 2 9 6 8 3 4 5 6\n",
      " 6 5 6 9 5 9 4 7 3 6 2 8 5 7 0 4 7 9 9 8 4 0 3 1 6 4 1 3 7 3 0 7 2 7 1 4 2\n",
      " 7 7 7 7 5 4 9 4 4 9 9 1 6 3 7 0 8 6 4 9 1 6 1 5 8 5 3 9 6 8 1 1 3 5 8 3 0\n",
      " 6 4 9 0 9 1 4 8 0 5 1 8 0 8 8 9 7 6 1 0 2 9 9 4 4 6 2 7 5 4 7 9 6 7 7 9 5\n",
      " 9 5 0 7 3 0 8 1 7 6 9 8 2 8 2 1 8 5 8 6 7 7 5 9 8 1 9 1 7 0 4 4 6 7 3 0 6\n",
      " 1 6 5 7 6 2 9 9 6 6 8 8 9 4 1 0 6 8 4 6 1 6 8 7 9 7 1 2 7 4 8 1 0 7 2 4 9\n",
      " 8 6 5 8 9 5 0 6 9 2 7 1 2 5 7 5 3 3 2 8 7 1 7 1 1 6 2 0 0 3 6 0 1 6 8 2 1\n",
      " 5 6 7 4 8 1 4 5 2 9 3 9 6 0 2 1 7 8 6 3 8 5 1 5 5 5 0 4 3 5 6 5 6 1 5 4 1\n",
      " 0 8 0 0 2 4 3 0 9 3 4 7 2 2 9 1 7 1 9 0 2 0 6 3 9 2 5 9 5 9 6 8 7 7 5 1 4\n",
      " 3 1 1 3 5 1 8 1 8 9 9 1 6 7 9 6 3 0 8 4 2 6 0 4 0 7 0 0 7 6 0 0 5 1 0 8 1\n",
      " 4 7 7 0 0 6 2 5 3 4 8 0 6 6 3 5 6 6 0 8 7 4 7 3 1 0 9 9 1 3 0 9 1 3 0 9 5\n",
      " 3 6 4 9 2 1 0 3 6 7 0 8 4 3 2 3 9 7 4 0 9 3 4 7 4 4 1 3 0 8 8 7 9 6 7 7 0\n",
      " 7 5 8 4 8 2 1 7 5 0 4 9 5 7 3 6 3 7 0 6 2 4 2 5 2 4 0 6 7 0 3 7 8 8 7 9 2\n",
      " 1 3 0 3 8 1 5 7 5 4 8 9 3 8 8 2 0 0 5 6 4 4 2 7 5 3 1 5 1 2 5 2 8 5 0 5 2\n",
      " 0 4 9 3 6 6 2 8 6 0 6 4 7 9 1 6 7 2 6 1 8 7 7 4 8 3 1 7 6 0 5 9 4 0 5 0 7\n",
      " 6 5 9 2 5 8 9 3 3 7 2 0 1 5 7 0 2 1 7 4 9 1 6 1 5 2 5 8 7 5 7 2 0 4 5 2 1\n",
      " 0 8 5 5 4 5 0 8 7 0 5 3 7 6 4 9 6 4 5 4 2 0 5 4 6 0 8 7 3 6 8 5 7 9 2 0 3\n",
      " 8 6 7 3 8 6 1 8 4 0 7 6 2 4 0 4 8 2 3 7 3 4 4 7 6 2 9 5 8 0 6 5 6 8 8 7 2\n",
      " 8 3 0 7 3 5 0 8 0 3 0 5 9 2 9 8 8 3 7 9 3 6 2 1 8 3 4 6 8 4 6 7 8 0 4 1 9\n",
      " 6 1 6 2 1 6 5 7 5 7 3 5 3 2 8 7 8 6 8 2 6 5 0 7 2 3 3 8 0 6 3 8 3 4 1 5 4\n",
      " 7 3 4 4 5 7 8 9 6 6 5 6 2 8 5 3 9 4 7 6 6 5 9 6 7 4 6 0 7 8 1 5 3 9 6 5 2\n",
      " 1 4 1 2 0 8 1 2 5 0 6 9 9 1 7 5 6 2 0 8 2 7 8 1 3 1 6 0 6 7 3 2 9 0 6 5 0\n",
      " 7 5 9 3 3 1 9 9 1 2 2 2 7 4 6 5 0 3 5 6 7 1 9 9 2 0 3 3 5 2 6 1 6 5 5 7 1\n",
      " 2 7 8 7 2 3 3 4 6 6 6 6 9 3 6 6 9 0 1 4 1 6 5 7 8 1 9 2 6 3 3 4 6 0 8 2 6\n",
      " 8 7 6 6 4 2 1 7 9 7 6 6 1 8 7 0 4 1 1 6 0 5 7 5 9 1 7 0 0 5 1 9 3 9 9 7 9\n",
      " 6]\n"
     ]
    },
    {
     "data": {
      "text/plain": [
       "0.854"
      ]
     },
     "execution_count": 11,
     "metadata": {},
     "output_type": "execute_result"
    }
   ],
   "source": [
    "dev_predictions = make_predictions(X_dev, W1, b1, W2, b2)\n",
    "get_accuracy(dev_predictions, Y_dev)"
   ]
  },
  {
   "cell_type": "code",
   "execution_count": null,
   "metadata": {},
   "outputs": [],
   "source": []
  }
 ],
 "metadata": {
  "kernelspec": {
   "display_name": "Python 3",
   "language": "python",
   "name": "python3"
  },
  "language_info": {
   "codemirror_mode": {
    "name": "ipython",
    "version": 3
   },
   "file_extension": ".py",
   "mimetype": "text/x-python",
   "name": "python",
   "nbconvert_exporter": "python",
   "pygments_lexer": "ipython3",
   "version": "3.11.9"
  }
 },
 "nbformat": 4,
 "nbformat_minor": 2
}
